{
 "cells": [
  {
   "cell_type": "code",
   "execution_count": 1,
   "metadata": {},
   "outputs": [],
   "source": [
    "import pandas as pd\n",
    "import numpy as np \n",
    "\n",
    "data_file = \"../processed_data/all_data.csv\"\n",
    "dat = pd.read_csv(data_file)"
   ]
  },
  {
   "cell_type": "markdown",
   "metadata": {},
   "source": [
    "give the competition people more suggestions is better than fewer - include all of the different suggestions. "
   ]
  },
  {
   "cell_type": "code",
   "execution_count": null,
   "metadata": {},
   "outputs": [],
   "source": [
    "# create an array of countries for which to store dataframes\n",
    "teams = []\n",
    "class team:\n",
    "    def __init__(self, country:str):\n",
    "        self.country = country \n",
    "        self.potential_team_members = None\n",
    "\n",
    "    def select_team(self):\n",
    "        pass\n",
    "\n",
    "for i in range(len(list(dat[\"Country\"].unique()))):\n",
    "    new_team = team(country)"
   ]
  }
 ],
 "metadata": {
  "kernelspec": {
   "display_name": "base",
   "language": "python",
   "name": "python3"
  },
  "language_info": {
   "codemirror_mode": {
    "name": "ipython",
    "version": 3
   },
   "file_extension": ".py",
   "mimetype": "text/x-python",
   "name": "python",
   "nbconvert_exporter": "python",
   "pygments_lexer": "ipython3",
   "version": "3.10.12"
  }
 },
 "nbformat": 4,
 "nbformat_minor": 2
}
