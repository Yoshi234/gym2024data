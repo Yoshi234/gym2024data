{
 "cells": [
  {
   "cell_type": "code",
   "execution_count": 18,
   "metadata": {},
   "outputs": [],
   "source": [
    "import pandas as pd  \n",
    "from simulator_help.pick_teams import athlete\n",
    "\n",
    "sunisa = athlete(\"sunisa lee\", \"w\", \"USA\", 5, value=0)"
   ]
  },
  {
   "cell_type": "code",
   "execution_count": null,
   "metadata": {},
   "outputs": [],
   "source": [
    "from simulator_help.pick_teams import pick_bench_teams\n",
    "from simulator_help.pick_teams import women_events, men_events\n",
    "teams = pick_bench_teams(gender=\"w\", events=women_events, )"
   ]
  },
  {
   "cell_type": "code",
   "execution_count": 3,
   "metadata": {},
   "outputs": [],
   "source": [
    "def scale_output(data):\n",
    "    mu = data[\"Score\"].mean()\n",
    "    sd = data[\"Score\"].std()\n",
    "    return mu, sd"
   ]
  },
  {
   "cell_type": "code",
   "execution_count": 4,
   "metadata": {},
   "outputs": [],
   "source": [
    "dat = pd.read_csv(\"processed_data/all_data.csv\")"
   ]
  },
  {
   "cell_type": "code",
   "execution_count": 29,
   "metadata": {},
   "outputs": [
    {
     "name": "stdout",
     "output_type": "stream",
     "text": [
      "MAS\n",
      "zarith imaan khalid\n",
      "muhammad sharul aimy\n",
      "farah ann abdul hadi\n",
      "tan ing yueh\n",
      "SWE\n",
      "tonya paulsson\n",
      "jennifer williams\n",
      "nathalie westlund\n",
      "emelie westlund\n",
      "ROC\n",
      "liliia akhaimova\n",
      "anastasiia iliankova\n",
      "angelina melnikova\n",
      "viktoria listunova\n",
      "CRC\n",
      "franciny morales\n",
      "anelena rodriguez johanning\n",
      "anelena rodriguez\n",
      "rachel rodriguez\n",
      "BRA\n",
      "rebeca andrade\n",
      "flavia saraiva\n",
      "jade barbosa\n",
      "carolyne pedro\n",
      "JPN\n",
      "mai murakami\n",
      "shoko miyata\n",
      "ayaka sakaguchi\n",
      "rina kishi\n",
      "ESP\n",
      "alba petisco\n",
      "laura casabuena\n",
      "lorena medina\n",
      "maia llacer sirera\n",
      "CAN\n",
      "elsabeth black\n",
      "shallon olsen\n",
      "emma spence\n",
      "denelle pedrick\n",
      "FRA\n",
      "aline friess\n",
      "morgane osyssek reimer\n",
      "mélanie de jesus dos santos\n",
      "carolann heduit\n",
      "BEL\n",
      "lisa vaelen\n",
      "maellyse brassart\n",
      "jutta verkest\n",
      "nina derwael\n"
     ]
    }
   ],
   "source": [
    "from simulator_help.pick_teams import pick_bench_teams\n",
    "from simulator_help.pick_teams import women_events, men_events\n",
    "teams = pick_bench_teams(gender=\"w\", events=women_events, dat=dat)\n",
    "\n",
    "for i in range(10): \n",
    "    print(teams[i].country)\n",
    "    for j in teams[i].team: print(j)"
   ]
  },
  {
   "cell_type": "code",
   "execution_count": null,
   "metadata": {},
   "outputs": [],
   "source": [
    "m_teams = pick_bench_teams()"
   ]
  },
  {
   "cell_type": "code",
   "execution_count": 5,
   "metadata": {},
   "outputs": [
    {
     "data": {
      "text/plain": [
       "'farah ann abdul hadi'"
      ]
     },
     "execution_count": 5,
     "metadata": {},
     "output_type": "execute_result"
    }
   ],
   "source": [
    "dat.iloc[0][\"Competitor\"]"
   ]
  },
  {
   "cell_type": "code",
   "execution_count": 6,
   "metadata": {},
   "outputs": [
    {
     "name": "stdout",
     "output_type": "stream",
     "text": [
      "reading from modeling/pretrained/r6_mod.pkl\n",
      "Index(['log0__IndividualDateRank', 'category__Gender_m', 'category__Gender_w',\n",
      "       'category__Country_ALB', 'category__Country_ALG',\n",
      "       'category__Country_ARG', 'category__Country_ARM',\n",
      "       'category__Country_ARU', 'category__Country_AUS',\n",
      "       'category__Country_AUT',\n",
      "       ...\n",
      "       'category__Competitor_zeina ibrahim',\n",
      "       'category__Competitor_zeina sharaf',\n",
      "       'category__Competitor_zelme daries', 'category__Competitor_zhi wang',\n",
      "       'category__Competitor_zhilong chen',\n",
      "       'category__Competitor_zhuofan huang',\n",
      "       'category__Competitor_zi xuan shandy poh',\n",
      "       'category__Competitor_zoe miller', 'category__Competitor_zoja szekely',\n",
      "       'category__Competitor_zsofia kovacs'],\n",
      "      dtype='object', length=1984)\n"
     ]
    }
   ],
   "source": [
    "from sim import run_r6, load_model\n",
    "\n",
    "r6, r6_features = load_model(\"modeling/pretrained\", \"r6_mod\")\n",
    "print(r6_features)"
   ]
  },
  {
   "cell_type": "code",
   "execution_count": 23,
   "metadata": {},
   "outputs": [
    {
     "data": {
      "text/plain": [
       "15.899939894009062"
      ]
     },
     "execution_count": 23,
     "metadata": {},
     "output_type": "execute_result"
    }
   ],
   "source": [
    "mu, sd = scale_output(dat)\n",
    "\n",
    "run_r6(sunisa, \"qual\", \"BB\", mu, sd, r6, r6_features)"
   ]
  },
  {
   "cell_type": "code",
   "execution_count": 16,
   "metadata": {},
   "outputs": [],
   "source": [
    "vals = [1,2,3,4,5,6]\n",
    "df = pd.DataFrame([vals], columns=[\"1\", \"2\", \"3\", \"4\", \"5\", \"6\"])"
   ]
  }
 ],
 "metadata": {
  "kernelspec": {
   "display_name": "base",
   "language": "python",
   "name": "python3"
  },
  "language_info": {
   "codemirror_mode": {
    "name": "ipython",
    "version": 3
   },
   "file_extension": ".py",
   "mimetype": "text/x-python",
   "name": "python",
   "nbconvert_exporter": "python",
   "pygments_lexer": "ipython3",
   "version": "3.10.12"
  }
 },
 "nbformat": 4,
 "nbformat_minor": 2
}
